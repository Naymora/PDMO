{
  "nbformat": 4,
  "nbformat_minor": 0,
  "metadata": {
    "kernelspec": {
      "display_name": "Python 3",
      "language": "python",
      "name": "python3"
    },
    "language_info": {
      "codemirror_mode": {
        "name": "ipython",
        "version": 3
      },
      "file_extension": ".py",
      "mimetype": "text/x-python",
      "name": "python",
      "nbconvert_exporter": "python",
      "pygments_lexer": "ipython3",
      "version": "3.6.0"
    },
    "colab": {
      "name": "Copy of _WB_Thailand_Dictionaries.ipynb",
      "provenance": [],
      "collapsed_sections": [
        "2_IAXpn5RTgJ",
        "tDaY8rtl38N6"
      ],
      "include_colab_link": true
    }
  },
  "cells": [
    {
      "cell_type": "markdown",
      "metadata": {
        "id": "view-in-github",
        "colab_type": "text"
      },
      "source": [
        "<a href=\"https://colab.research.google.com/github/Naymora/PDMO/blob/main/Copy_of__WB_Thailand_Dictionaries.ipynb\" target=\"_parent\"><img src=\"https://colab.research.google.com/assets/colab-badge.svg\" alt=\"Open In Colab\"/></a>"
      ]
    },
    {
      "cell_type": "markdown",
      "metadata": {
        "id": "_00Uyfuf38Nj"
      },
      "source": [
        "# **The dictionary data type** (also known as 'dict')\n",
        "----"
      ]
    },
    {
      "cell_type": "markdown",
      "metadata": {
        "id": "8Y2NdQbFT9Z7"
      },
      "source": [
        "## **What is a 'dictionary' in Python?**"
      ]
    },
    {
      "cell_type": "markdown",
      "metadata": {
        "collapsed": false,
        "id": "slEF0pGM38Nl"
      },
      "source": [
        "A dictionary is a set of (__key: value__) pairs:\n",
        "\n",
        "* __Keys__ must be unique (and 'immutable'). Typically, they are strings.\n",
        "* __Values__ can be anything, including e.g. another dict \n",
        "\n",
        "(In some other programming languages, the concept of a dictionary is called a 'map' or a 'hash'.)"
      ]
    },
    {
      "cell_type": "code",
      "metadata": {
        "id": "LK6gXOOeN_42"
      },
      "source": [
        "from datetime import date"
      ],
      "execution_count": null,
      "outputs": []
    },
    {
      "cell_type": "markdown",
      "metadata": {
        "id": "AOvig7yBMLqm"
      },
      "source": [
        "## **Why dictionaries?**"
      ]
    },
    {
      "cell_type": "markdown",
      "metadata": {
        "id": "ESoLolbRUSXY"
      },
      "source": [
        "With lists, we access elements by their numerical index, e.g. L[2]. Often it is convenient to retrieve elements of a collection using a meaningful key instead.\n",
        "\n",
        "In the case of our debt management application, we might be interested to look up bonds according to their symbol (or ISIN)."
      ]
    },
    {
      "cell_type": "code",
      "metadata": {
        "id": "204CKSuxNDpt"
      },
      "source": [
        "bond_dict = dict(LB29DA={'maturity': date(2029, 12, 17), 'coupon': 0.016}, \\\n",
        "                 LB386A={'maturity': date(2038, 6, 17), 'coupon': 0.033})"
      ],
      "execution_count": null,
      "outputs": []
    },
    {
      "cell_type": "markdown",
      "metadata": {
        "id": "TLUYp6G8N3MX"
      },
      "source": [
        "Now, we can conveniently look up the information we are interested in by using meaningful keys:"
      ]
    },
    {
      "cell_type": "code",
      "metadata": {
        "id": "AFTWeZEKODNJ",
        "outputId": "aab884c1-a3ff-49e7-cf3e-553f014d0445",
        "colab": {
          "base_uri": "https://localhost:8080/",
          "height": 35
        }
      },
      "source": [
        "bond_dict['LB386A']['coupon']"
      ],
      "execution_count": null,
      "outputs": [
        {
          "output_type": "execute_result",
          "data": {
            "text/plain": [
              "0.033"
            ]
          },
          "metadata": {
            "tags": []
          },
          "execution_count": 5
        }
      ]
    },
    {
      "cell_type": "markdown",
      "metadata": {
        "id": "lLQ4kNWrOOtq"
      },
      "source": [
        "Contrast this with the situation where we use lists:"
      ]
    },
    {
      "cell_type": "code",
      "metadata": {
        "id": "nRwrYePaOV7O",
        "outputId": "372f2d0e-9850-4ff1-cef5-40de35c2d25a",
        "colab": {
          "base_uri": "https://localhost:8080/",
          "height": 35
        }
      },
      "source": [
        "bond_list = [[date(2029, 12, 17), 0.016], [date(2038, 6, 17), 0.033]]\n",
        "bond_list[1][1] "
      ],
      "execution_count": null,
      "outputs": [
        {
          "output_type": "execute_result",
          "data": {
            "text/plain": [
              "0.033"
            ]
          },
          "metadata": {
            "tags": []
          },
          "execution_count": 8
        }
      ]
    },
    {
      "cell_type": "markdown",
      "metadata": {
        "id": "xAHXFGZmOlzh"
      },
      "source": [
        "We can extract the same information, but the indices are not very human friendly (we have to remember, for example, that coupon in the last entry in the nested lists):"
      ]
    },
    {
      "cell_type": "markdown",
      "metadata": {
        "id": "tTcNlGvqPJDT"
      },
      "source": [
        "Using lists for this purpose makes your code hard to read and very error-prone (it is quite easy to get an index wrong...)"
      ]
    },
    {
      "cell_type": "markdown",
      "metadata": {
        "id": "mJXBnj5lQCLi"
      },
      "source": [
        "## **Dictionaries in a bit more detail**"
      ]
    },
    {
      "cell_type": "code",
      "metadata": {
        "id": "8HGMe0yZQb6v",
        "outputId": "153c54dd-913a-484d-968e-cc5edee26aa3",
        "colab": {
          "base_uri": "https://localhost:8080/",
          "height": 35
        }
      },
      "source": [
        "# Define a very simple dict using curly braces\n",
        "\n",
        "d = {'Thailand': 'Bangkok', 'Denmark': 'Copenhagen'}\n",
        "d"
      ],
      "execution_count": null,
      "outputs": [
        {
          "output_type": "execute_result",
          "data": {
            "text/plain": [
              "{'Denmark': 'Copenhagen', 'Thailand': 'Bangkok'}"
            ]
          },
          "metadata": {
            "tags": []
          },
          "execution_count": 9
        }
      ]
    },
    {
      "cell_type": "code",
      "metadata": {
        "id": "vFuADrJJQr-X",
        "outputId": "1d97b4da-2d8c-4445-a57c-2397d252069f",
        "colab": {
          "base_uri": "https://localhost:8080/",
          "height": 35
        }
      },
      "source": [
        "# Define the exact same dict using the 'dict' keyword\n",
        "\n",
        "d = dict(Thailand='Bangkok', Denmark='Copenhagen')\n",
        "d"
      ],
      "execution_count": null,
      "outputs": [
        {
          "output_type": "execute_result",
          "data": {
            "text/plain": [
              "{'Denmark': 'Copenhagen', 'Thailand': 'Bangkok'}"
            ]
          },
          "metadata": {
            "tags": []
          },
          "execution_count": 10
        }
      ]
    },
    {
      "cell_type": "markdown",
      "metadata": {
        "id": "jsadGA-TQ8QF"
      },
      "source": [
        "Note the changes when using the dict keyword:\n",
        "* no quotation marks around keys\n",
        "* use equal sign (=) instead of colon (:) between keys and values"
      ]
    },
    {
      "cell_type": "code",
      "metadata": {
        "id": "MJ8WnkokSMHE",
        "outputId": "26a8ca33-8979-444d-d08d-4d1b59656fbc",
        "colab": {
          "base_uri": "https://localhost:8080/",
          "height": 35
        }
      },
      "source": [
        "# Add a new element to a dictionary\n",
        "\n",
        "d['France'] = 'Paris'\n",
        "d"
      ],
      "execution_count": null,
      "outputs": [
        {
          "output_type": "execute_result",
          "data": {
            "text/plain": [
              "{'Denmark': 'Copenhagen', 'France': 'Paris', 'Thailand': 'Bangkok'}"
            ]
          },
          "metadata": {
            "tags": []
          },
          "execution_count": 11
        }
      ]
    },
    {
      "cell_type": "code",
      "metadata": {
        "id": "NsvROKlMS1kT",
        "outputId": "9616d151-ea2f-4de7-d6d2-119b5d7b4b3c",
        "colab": {
          "base_uri": "https://localhost:8080/",
          "height": 35
        }
      },
      "source": [
        "# A (key, value)-pair can be removed with the 'pop' method\n",
        "\n",
        "#d.pop('Denmark') ทดลองอีกคำสั่ง \n",
        "d.pop('France')\n",
        "d"
      ],
      "execution_count": null,
      "outputs": [
        {
          "output_type": "execute_result",
          "data": {
            "text/plain": [
              "{'Thailand': 'Bangkok'}"
            ]
          },
          "metadata": {
            "tags": []
          },
          "execution_count": 13
        }
      ]
    },
    {
      "cell_type": "code",
      "metadata": {
        "id": "1M5fsEs2TFCc",
        "outputId": "11ef54d3-e1b7-435e-b7c4-db01098a5534",
        "colab": {
          "base_uri": "https://localhost:8080/",
          "height": 90
        }
      },
      "source": [
        "# Two dictionaries can be combined with the 'update' method\n",
        "\n",
        "d1 = dict(Thailand='Bangkok', Denmark='Copenhagen')\n",
        "d2 = dict(Colombia='Bogota', France='Paris')\n",
        "\n",
        "d1.update(d2)\n",
        "d1"
      ],
      "execution_count": null,
      "outputs": [
        {
          "output_type": "execute_result",
          "data": {
            "text/plain": [
              "{'Colombia': 'Bogota',\n",
              " 'Denmark': 'Copenhagen',\n",
              " 'France': 'Paris',\n",
              " 'Thailand': 'Bangkok'}"
            ]
          },
          "metadata": {
            "tags": []
          },
          "execution_count": 14
        }
      ]
    },
    {
      "cell_type": "markdown",
      "metadata": {
        "id": "2_IAXpn5RTgJ"
      },
      "source": [
        "### **Nested dicts**: the bond example again"
      ]
    },
    {
      "cell_type": "code",
      "metadata": {
        "id": "97jGjAfH38Nm",
        "outputId": "9a7c01fc-1680-43b3-8dff-2ab498182710",
        "colab": {
          "base_uri": "https://localhost:8080/",
          "height": 54
        }
      },
      "source": [
        "# Specify a dict using curly braces\n",
        "\n",
        "d = {'LB29DA': {'maturity': date(2029, 12, 17), 'coupon': 0.016}, \\\n",
        "     'LB386A': {'maturity': date(2038, 6, 17), 'coupon': 0.033}}\n",
        "\n",
        "print(d)\n",
        "type(d)"
      ],
      "execution_count": null,
      "outputs": [
        {
          "output_type": "stream",
          "text": [
            "{'LB29DA': {'maturity': datetime.date(2029, 12, 17), 'coupon': 0.016}, 'LB386A': {'maturity': datetime.date(2038, 6, 17), 'coupon': 0.033}}\n"
          ],
          "name": "stdout"
        },
        {
          "output_type": "execute_result",
          "data": {
            "text/plain": [
              "dict"
            ]
          },
          "metadata": {
            "tags": []
          },
          "execution_count": 15
        }
      ]
    },
    {
      "cell_type": "code",
      "metadata": {
        "id": "60cC9lFp38Nr",
        "outputId": "debb666d-6580-4f3f-a8fe-8dcf4dcffe8c",
        "colab": {
          "base_uri": "https://localhost:8080/",
          "height": 54
        }
      },
      "source": [
        "# Or - equivalently - using the 'dict' keyword\n",
        "\n",
        "d = dict(LB29DA=dict(maturity=date(2029, 12, 17), coupon=0.016), \\\n",
        "         LB386A=dict(maturity=date(2038, 6, 17), coupon=0.033))\n",
        "\n",
        "print(d)\n",
        "type(d)"
      ],
      "execution_count": null,
      "outputs": [
        {
          "output_type": "stream",
          "text": [
            "{'LB29DA': {'maturity': datetime.date(2029, 12, 17), 'coupon': 0.016}, 'LB386A': {'maturity': datetime.date(2038, 6, 17), 'coupon': 0.033}}\n"
          ],
          "name": "stdout"
        },
        {
          "output_type": "execute_result",
          "data": {
            "text/plain": [
              "dict"
            ]
          },
          "metadata": {
            "tags": []
          },
          "execution_count": 16
        }
      ]
    },
    {
      "cell_type": "code",
      "metadata": {
        "id": "QsnsmBXG38Nv",
        "outputId": "24b6a595-7f25-4050-cd5f-76e984914504",
        "colab": {
          "base_uri": "https://localhost:8080/",
          "height": 35
        }
      },
      "source": [
        "d.keys()"
      ],
      "execution_count": null,
      "outputs": [
        {
          "output_type": "execute_result",
          "data": {
            "text/plain": [
              "dict_keys(['LB29DA', 'LB386A'])"
            ]
          },
          "metadata": {
            "tags": []
          },
          "execution_count": 17
        }
      ]
    },
    {
      "cell_type": "code",
      "metadata": {
        "id": "2gsRxbuD38N0",
        "outputId": "3526143a-3e9b-4fc1-958d-4a10b34d805f",
        "colab": {
          "base_uri": "https://localhost:8080/",
          "height": 35
        }
      },
      "source": [
        "d.values()"
      ],
      "execution_count": null,
      "outputs": [
        {
          "output_type": "execute_result",
          "data": {
            "text/plain": [
              "dict_values([{'maturity': datetime.date(2029, 12, 17), 'coupon': 0.016}, {'maturity': datetime.date(2038, 6, 17), 'coupon': 0.033}])"
            ]
          },
          "metadata": {
            "tags": []
          },
          "execution_count": 18
        }
      ]
    },
    {
      "cell_type": "code",
      "metadata": {
        "id": "aQn-eWLU38N3",
        "outputId": "537aefb9-398e-4b67-e54f-ced858234378",
        "colab": {
          "base_uri": "https://localhost:8080/",
          "height": 35
        }
      },
      "source": [
        "# Get the value corresponding to a key\n",
        "d['LB29DA']"
      ],
      "execution_count": null,
      "outputs": [
        {
          "output_type": "execute_result",
          "data": {
            "text/plain": [
              "{'coupon': 0.016, 'maturity': datetime.date(2029, 12, 17)}"
            ]
          },
          "metadata": {
            "tags": []
          },
          "execution_count": 19
        }
      ]
    },
    {
      "cell_type": "markdown",
      "metadata": {
        "id": "tDaY8rtl38N6"
      },
      "source": [
        "#### <font color='steelblue'>**Exercise 1**</font>\n",
        "1. Create a dictionary called \"my_dict\" countaining the countries Thailand, Denmark, Australia as keys, and the ISO codes for their currencies (e.g. 'THB') as values. Define the dict using either curly braces or the ``dict`` command.\n",
        "1. Print \"my_dict\" to the screen with print(). Does the order of the elements match how your entered them?\n",
        "1. Extract the currency of Australia from the dictionary\n",
        "1. Extract the keys from the dictionary as a list\n",
        "1. Extract the values from the dictionary as a list"
      ]
    },
    {
      "cell_type": "markdown",
      "metadata": {
        "id": "1l0mvlLfKoDV"
      },
      "source": [
        "### Combining lists of keys and values into a dictionary"
      ]
    },
    {
      "cell_type": "code",
      "metadata": {
        "id": "p8bt5PBZ38N-",
        "outputId": "742969e1-1186-488a-d08f-01d601cba2b0",
        "colab": {
          "base_uri": "https://localhost:8080/",
          "height": 35
        }
      },
      "source": [
        "# Typical situation: we have two separate lists with keys and values and want to\n",
        "# create a dictionary from them\n",
        "\n",
        "# Combine keys and values with 'zip'\n",
        "# One possible use case: short variable names vs. legible legends for charts\n",
        "\n",
        "tickers = ['AAPL', 'LMT', 'TSLA']\n",
        "names = ['Apple Inc.', 'Lockheed Martin Corporation', 'Tesla Motors Inc.']\n",
        "\n",
        "zip(tickers, names) # Returns a so-called iterator"
      ],
      "execution_count": null,
      "outputs": [
        {
          "output_type": "execute_result",
          "data": {
            "text/plain": [
              "<zip at 0x7f33cb37c848>"
            ]
          },
          "metadata": {
            "tags": []
          },
          "execution_count": 20
        }
      ]
    },
    {
      "cell_type": "code",
      "metadata": {
        "id": "zZyGUVIL38OC",
        "outputId": "e96ad42b-0587-4ea5-f9dc-7137fca6c38e",
        "colab": {
          "base_uri": "https://localhost:8080/",
          "height": 72
        }
      },
      "source": [
        "# Inspect it by turning the iterator into a list\n",
        "list(zip(tickers, names))"
      ],
      "execution_count": null,
      "outputs": [
        {
          "output_type": "execute_result",
          "data": {
            "text/plain": [
              "[('AAPL', 'Apple Inc.'),\n",
              " ('LMT', 'Lockheed Martin Corporation'),\n",
              " ('TSLA', 'Tesla Motors Inc.')]"
            ]
          },
          "metadata": {
            "tags": []
          },
          "execution_count": 21
        }
      ]
    },
    {
      "cell_type": "code",
      "metadata": {
        "id": "uwimJF7038OF",
        "outputId": "63385e41-d0d4-492b-a372-0b3da11d6f5a",
        "colab": {
          "base_uri": "https://localhost:8080/",
          "height": 72
        }
      },
      "source": [
        "# Create a dictionary\n",
        "d1 = dict(zip(tickers, names))\n",
        "d1"
      ],
      "execution_count": null,
      "outputs": [
        {
          "output_type": "execute_result",
          "data": {
            "text/plain": [
              "{'AAPL': 'Apple Inc.',\n",
              " 'LMT': 'Lockheed Martin Corporation',\n",
              " 'TSLA': 'Tesla Motors Inc.'}"
            ]
          },
          "metadata": {
            "tags": []
          },
          "execution_count": 22
        }
      ]
    },
    {
      "cell_type": "code",
      "metadata": {
        "id": "b06FLsq038OI",
        "outputId": "5aef076b-83cc-4401-8742-eaf3de103565",
        "colab": {
          "base_uri": "https://localhost:8080/",
          "height": 189
        }
      },
      "source": [
        "# When a key does not exist: key error\n",
        "d['LNT'] # This will raise a 'KeyError'"
      ],
      "execution_count": null,
      "outputs": [
        {
          "output_type": "error",
          "ename": "KeyError",
          "evalue": "ignored",
          "traceback": [
            "\u001b[0;31m---------------------------------------------------------------------------\u001b[0m",
            "\u001b[0;31mKeyError\u001b[0m                                  Traceback (most recent call last)",
            "\u001b[0;32m<ipython-input-25-614946b34fa2>\u001b[0m in \u001b[0;36m<module>\u001b[0;34m()\u001b[0m\n\u001b[1;32m      1\u001b[0m \u001b[0;31m# When a key does not exist: key error\u001b[0m\u001b[0;34m\u001b[0m\u001b[0;34m\u001b[0m\u001b[0;34m\u001b[0m\u001b[0m\n\u001b[0;32m----> 2\u001b[0;31m \u001b[0md\u001b[0m\u001b[0;34m[\u001b[0m\u001b[0;34m'LNT'\u001b[0m\u001b[0;34m]\u001b[0m \u001b[0;31m# This will raise a 'KeyError'\u001b[0m\u001b[0;34m\u001b[0m\u001b[0;34m\u001b[0m\u001b[0m\n\u001b[0m",
            "\u001b[0;31mKeyError\u001b[0m: 'LNT'"
          ]
        }
      ]
    },
    {
      "cell_type": "code",
      "metadata": {
        "id": "BeYQcpfE38OK",
        "outputId": "c4ab37ad-190f-4f68-a0c5-9953d3d7556d",
        "colab": {
          "base_uri": "https://localhost:8080/",
          "height": 35
        }
      },
      "source": [
        "# Use of 'get' method (fails silently)\n",
        "print(d.get('LNT'))"
      ],
      "execution_count": null,
      "outputs": [
        {
          "output_type": "stream",
          "text": [
            "None\n"
          ],
          "name": "stdout"
        }
      ]
    }
  ]
}